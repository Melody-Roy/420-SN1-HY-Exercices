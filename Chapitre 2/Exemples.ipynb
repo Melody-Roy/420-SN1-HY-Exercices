{
 "cells": [
  {
   "metadata": {},
   "cell_type": "markdown",
   "source": "Comparaison entre sin et cos",
   "id": "3401855fb4f87e6"
  },
  {
   "cell_type": "code",
   "id": "initial_id",
   "metadata": {
    "collapsed": true
   },
   "source": [
    "import numpy as np\n",
    "import matplotlib.pyplot as plt\n",
    "\n",
    "x = np.linspace(0, 2 * np.pi, 100)\n",
    "y1 = np.sin(x)\n",
    "y2 = np.cos(x)\n",
    "\n",
    "plt.figure(figsize=(8, 4))\n",
    "plt.plot(x, y1, label='sin(x)', color='blue', linestyle='--')\n",
    "plt.plot(x, y2, label='cos(x)', color='red', linewidth=2)\n",
    "\n",
    "plt.title(\"Comparaison entre sin(x) et cos(x)\")\n",
    "plt.xlabel(\"x (radians)\")\n",
    "plt.ylabel(\"Valeur trigonométrique\")\n",
    "plt.grid(True)\n",
    "plt.legend()\n",
    "plt.xlim(0, 2 * np.pi)\n",
    "plt.ylim(-1.2, 1.2)\n",
    "plt.show()"
   ],
   "outputs": [],
   "execution_count": null
  },
  {
   "metadata": {},
   "cell_type": "markdown",
   "source": "Histogramme des températures mensuelles",
   "id": "134639c73f98216"
  },
  {
   "metadata": {},
   "cell_type": "code",
   "source": [
    "import matplotlib.pyplot as plt\n",
    "\n",
    "mois = ['Jan', 'Fév', 'Mar', 'Avr', 'Mai', 'Juin']\n",
    "temp = [-5, -2, 4, 10, 16, 20]\n",
    "\n",
    "plt.figure(figsize=(7, 5))\n",
    "plt.bar(mois, temp, color='skyblue', edgecolor='black')\n",
    "\n",
    "plt.title(\"Températures moyennes à Sainte-Madeleine\")\n",
    "plt.xlabel(\"Mois\")\n",
    "plt.ylabel(\"Température (°C)\")\n",
    "plt.grid(axis='y')\n",
    "plt.ylim(-10, 25)\n",
    "plt.show()"
   ],
   "id": "db8dff49fe63653",
   "outputs": [],
   "execution_count": null
  },
  {
   "metadata": {},
   "cell_type": "markdown",
   "source": "Dessiner une maison",
   "id": "f14c5eba071cd960"
  },
  {
   "metadata": {},
   "cell_type": "code",
   "source": "",
   "id": "5488f18db3afb22d",
   "outputs": [],
   "execution_count": null
  }
 ],
 "metadata": {
  "kernelspec": {
   "display_name": "Python 3",
   "language": "python",
   "name": "python3"
  },
  "language_info": {
   "codemirror_mode": {
    "name": "ipython",
    "version": 2
   },
   "file_extension": ".py",
   "mimetype": "text/x-python",
   "name": "python",
   "nbconvert_exporter": "python",
   "pygments_lexer": "ipython2",
   "version": "2.7.6"
  }
 },
 "nbformat": 4,
 "nbformat_minor": 5
}
