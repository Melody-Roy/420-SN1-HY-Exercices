{
 "cells": [
  {
   "metadata": {},
   "cell_type": "markdown",
   "source": [
    "Un agriculteur veut visualiser un terrain triangulaire sur un graphique. Les sommets du triangle sont aux coordonnées suivantes :<br>\n",
    "- A(0, 0)<br>\n",
    "- B(4, 0)<br>\n",
    "- C(2, 3)\n",
    "\n",
    "\n",
    "Il souhaite :<br>\n",
    "- Tracer les côtés du triangle en bleu.<br>\n",
    "- Remplir l’intérieur du triangle en vert.<br>\n",
    "- Ajouter le titre \"Terrain triangulaire\"<br>\n",
    "- Afficher le graphique sans bordure<br>\n",
    "\n",
    "Note: utiliser figsize=(6,6) pour définir la taille de la figure"
   ],
   "id": "72b3d2b2c4e4e54"
  },
  {
   "metadata": {
    "collapsed": true
   },
   "cell_type": "code",
   "source": [
    "import matplotlib.pyplot as plt\n",
    "\n",
    "# Coordonnées du triangle\n",
    "x = [0, 4, 2]\n",
    "y = [0, 0, 3]\n",
    "\n",
    "# Création de la figure\n",
    "plt.figure(figsize=(6, 6))\n",
    "\n",
    "# Remplissage du triangle\n",
    "plt.fill(x, y, color='lightgreen', edgecolor='blue')\n",
    "\n",
    "# Ajout un titre\n",
    "plt.title(\"Terrain triangulaire\")\n",
    "\n",
    "# Limites des axes\n",
    "plt.axis(\"off\")\n",
    "\n",
    "# Affichage\n",
    "plt.show()"
   ],
   "id": "initial_id",
   "outputs": [],
   "execution_count": null
  },
  {
   "metadata": {},
   "cell_type": "markdown",
   "source": [
    "Tracer une maison stylisée en utilisant plt.fill <br>\n",
    "Exemple de résultat attendu: <br>\n",
    "<img src=\"attachment:79f42c1c-229c-48e3-ab79-da822bcc0b14.png\" width=\"200\">"
   ],
   "id": "8905cdfff7f35024",
   "attachments": {
    "79f42c1c-229c-48e3-ab79-da822bcc0b14.png": {
     "image/png": "[encoded data removed]"
    }
   }
  },
  {
   "metadata": {},
   "cell_type": "code",
   "source": [
    "import matplotlib.pyplot as plt\n",
    "\n",
    "plt.figure(figsize=(6, 6))\n",
    "\n",
    "# Corps de la maison\n",
    "plt.fill([1, 1, 4, 4], [1, 4, 4, 1], color='burlywood')\n",
    "\n",
    "# Toit\n",
    "plt.fill([1, 2.5, 4], [4, 6, 4], color='firebrick')\n",
    "\n",
    "# Porte\n",
    "plt.fill([2, 2, 3, 3], [1, 2.5, 2.5, 1], color='saddlebrown')\n",
    "\n",
    "# Fenêtre\n",
    "plt.fill([3.2, 3.2, 3.8, 3.8], [2.5, 3.2, 3.2, 2.5], color='lightblue')\n",
    "\n",
    "plt.axis(\"equal\")\n",
    "plt.axis(\"off\")\n",
    "plt.show()"
   ],
   "id": "edbea254cfb3bd67",
   "outputs": [],
   "execution_count": null
  },
  {
   "metadata": {},
   "cell_type": "markdown",
   "source": [
    "On a noté la position d'un objet en mètre à un intervalle de temps régulier en seconde. <br>\n",
    "- Utilise plot() pour tracer la position en fonction du temps.\n",
    "- Les données sont représentées par un marqueur \"cercle\", un style de ligne \"pointillés\" et la couleur \"magenta\"\n",
    "- Ajoute un titre, des noms d’axes, une grille.\n",
    "- Ajuste les limites des axes avec xlim() et ylim().\n",
    "- Affiche le graphique avec show()\n"
   ],
   "id": "1b005133fab2022d"
  },
  {
   "metadata": {},
   "cell_type": "code",
   "source": [
    "import matplotlib.pyplot as plt\n",
    "\n",
    "# Données\n",
    "temps = [0, 1, 2, 3, 4, 5, 6, 7, 8, 9, 10]\n",
    "position = [0, 2, 4, 6, 8, 10, 12, 14, 16, 18, 20]\n",
    "\n",
    "# Création de la figure\n",
    "plt.figure(figsize=(8, 5))\n",
    "\n",
    "# Tracé de la courbe\n",
    "plt.plot(temps, position, color='m', marker='o', linestyle=':')\n",
    "\n",
    "# Ajout des éléments\n",
    "plt.title(\"Déplacement d’un objet en fonction du temps\")\n",
    "plt.xlabel(\"Temps (secondes)\")\n",
    "plt.ylabel(\"Position (mètres)\")\n",
    "plt.grid(True)\n",
    "\n",
    "# Limites des axes\n",
    "plt.xlim(0, 10)\n",
    "plt.ylim(0, 22)\n",
    "\n",
    "# Affichage\n",
    "plt.show()"
   ],
   "id": "c9be2ff502965143",
   "outputs": [],
   "execution_count": null
  }
 ],
 "metadata": {
  "kernelspec": {
   "display_name": "Python 3",
   "language": "python",
   "name": "python3"
  },
  "language_info": {
   "codemirror_mode": {
    "name": "ipython",
    "version": 2
   },
   "file_extension": ".py",
   "mimetype": "text/x-python",
   "name": "python",
   "nbconvert_exporter": "python",
   "pygments_lexer": "ipython2",
   "version": "2.7.6"
  }
 },
 "nbformat": 4,
 "nbformat_minor": 5
}
